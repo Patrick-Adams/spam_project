{
 "cells": [
  {
   "cell_type": "markdown",
   "id": "897914dc",
   "metadata": {},
   "source": [
    "## Patrick Adams \n",
    "## 1231065\n",
    "### DTSC 620 Project 1"
   ]
  },
  {
   "cell_type": "code",
   "execution_count": 1,
   "id": "a1dae991",
   "metadata": {},
   "outputs": [],
   "source": [
    "#imports\n",
    "import pandas as pd\n",
    "import numpy as np\n"
   ]
  },
  {
   "cell_type": "code",
   "execution_count": 3,
   "id": "740a12f0",
   "metadata": {},
   "outputs": [],
   "source": [
    "# loading the dataset into a dataframe\n",
    "spam_df = pd.read_csv(\"spam.csv\")"
   ]
  },
  {
   "cell_type": "code",
   "execution_count": null,
   "id": "60815811",
   "metadata": {},
   "outputs": [],
   "source": []
  }
 ],
 "metadata": {
  "kernelspec": {
   "display_name": "Python 3 (ipykernel)",
   "language": "python",
   "name": "python3"
  },
  "language_info": {
   "codemirror_mode": {
    "name": "ipython",
    "version": 3
   },
   "file_extension": ".py",
   "mimetype": "text/x-python",
   "name": "python",
   "nbconvert_exporter": "python",
   "pygments_lexer": "ipython3",
   "version": "3.9.13"
  }
 },
 "nbformat": 4,
 "nbformat_minor": 5
}
